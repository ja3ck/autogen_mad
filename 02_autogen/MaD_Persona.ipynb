{
 "cells": [
  {
   "cell_type": "code",
   "execution_count": 1,
   "metadata": {},
   "outputs": [
    {
     "name": "stdout",
     "output_type": "stream",
     "text": [
      "Requirement already satisfied: rich in /opt/homebrew/Caskroom/miniconda/base/envs/autogenstudio/lib/python3.11/site-packages (13.9.4)\n",
      "Requirement already satisfied: markdown-it-py>=2.2.0 in /opt/homebrew/Caskroom/miniconda/base/envs/autogenstudio/lib/python3.11/site-packages (from rich) (3.0.0)\n",
      "Requirement already satisfied: pygments<3.0.0,>=2.13.0 in /opt/homebrew/Caskroom/miniconda/base/envs/autogenstudio/lib/python3.11/site-packages (from rich) (2.19.1)\n",
      "Requirement already satisfied: mdurl~=0.1 in /opt/homebrew/Caskroom/miniconda/base/envs/autogenstudio/lib/python3.11/site-packages (from markdown-it-py>=2.2.0->rich) (0.1.2)\n"
     ]
    }
   ],
   "source": [
    "!pip install rich"
   ]
  },
  {
   "cell_type": "code",
   "execution_count": 3,
   "metadata": {},
   "outputs": [
    {
     "data": {
      "text/plain": [
       "True"
      ]
     },
     "execution_count": 3,
     "metadata": {},
     "output_type": "execute_result"
    }
   ],
   "source": [
    "import re\n",
    "import json \n",
    "import asyncio \n",
    "from dataclasses import dataclass\n",
    "from typing import Dict, List\n",
    "\n",
    "from autogen_core import SingleThreadedAgentRuntime\n",
    "from autogen_core import MessageContext, AgentId\n",
    "from autogen_core import DefaultTopicId, RoutedAgent, TypeSubscription, default_subscription, message_handler\n",
    "from autogen_core.models import (\n",
    "    AssistantMessage,\n",
    "    ChatCompletionClient,\n",
    "    LLMMessage,\n",
    "    SystemMessage,\n",
    "    UserMessage,    \n",
    ")\n",
    "from autogen_ext.models.openai import OpenAIChatCompletionClient\n",
    "\n",
    "from dotenv import load_dotenv\n",
    "load_dotenv()"
   ]
  },
  {
   "cell_type": "markdown",
   "metadata": {},
   "source": [
    "## Message Protocols"
   ]
  },
  {
   "cell_type": "markdown",
   "metadata": {},
   "source": [
    "Agent 동작 간에 주고 받는 메시지 데이터들 정의"
   ]
  },
  {
   "cell_type": "code",
   "execution_count": 4,
   "metadata": {},
   "outputs": [],
   "source": [
    "@dataclass \n",
    "class Topic:\n",
    "    content: str \n",
    "\n",
    "@dataclass \n",
    "class Participants:\n",
    "    content: str  # 필요한가?\n",
    "    participants_personas: List[Dict]\n",
    "\n",
    "@dataclass \n",
    "class Persona:\n",
    "    name: str \n",
    "    panel_type: str \n",
    "    description: str \n",
    "    topic: str \n",
    "    \n",
    "@dataclass \n",
    "class PanelResponse:\n",
    "    persona: Persona\n",
    "    answer: str "
   ]
  },
  {
   "cell_type": "markdown",
   "metadata": {},
   "source": [
    "## Agents"
   ]
  },
  {
   "cell_type": "markdown",
   "metadata": {},
   "source": [
    "### Persona Agent"
   ]
  },
  {
   "cell_type": "code",
   "execution_count": 10,
   "metadata": {},
   "outputs": [],
   "source": [
    "# 주어진 텍스트를 기반으로 토론 주제와 페르소나 정보를 추출\n",
    "# 정보는 Participant 형식으로 반환 \n",
    "@default_subscription\n",
    "class PersonaAgent(RoutedAgent):\n",
    "    def __init__(self, model_client: ChatCompletionClient,) -> None:\n",
    "        super().__init__(\"Persona Agent\")\n",
    "        self._model_client = model_client\n",
    "        self._participants: List[Participants] = [] \n",
    "        self._system_messages = [\n",
    "            SystemMessage(\n",
    "                content=(\n",
    "                    f\"다음 텍스트를 기반으로 가능한 1개의 토론 주제를 설정하세요.\"\n",
    "                    \"토론 주제에 적합한 주요 의견을 생성하고, 각 의견을 대변할 가상의 토론 participant 를 생성하세요. \"\n",
    "                    \"출력은 {{\\\"debate_title\\\": \\\"title\\\", \\\"participants\\\": [{\\\"participant_name\\\": \\\"parti_A\\\", \\\"description\\\": \\\"...\\\"},...]}} 으로 출력하세요.\"\n",
    "                )\n",
    "            )\n",
    "        ]\n",
    "    \n",
    "    @message_handler\n",
    "    async def handle_topic_request(self, message: Topic, ctx: MessageContext) -> None:\n",
    "        print(f\"{'-'*80}\\nPersona Agent {self.id} received topic:\\n{message.content}\")\n",
    "        history_msg = UserMessage(content=message.content, source=\"user\")\n",
    "        # Make an inference using the model.\n",
    "        model_result = await self._model_client.create(self._system_messages + [history_msg])\n",
    "        assert isinstance(model_result.content, str)\n",
    "        try:\n",
    "            participants_json = json.loads(model_result.content.strip())\n",
    "        except Exception as e:\n",
    "            raise ValueError(\"Participants data is invalid\\n\")\n",
    "        \n",
    "        print(f\"{'-'*80}\\nPersonaAgent {self.id} publishes initial participants.\\n\")\n",
    "        print(f\"{participants_json}\")\n",
    "        await self.publish_message(Participants(content=message.content, participants_personas=participants_json), topic_id=DefaultTopicId())"
   ]
  },
  {
   "cell_type": "markdown",
   "metadata": {},
   "source": [
    "### Panel Agent"
   ]
  },
  {
   "cell_type": "code",
   "execution_count": 11,
   "metadata": {},
   "outputs": [],
   "source": [
    "# Persona Agent 가 정의한 특정 페르소나에 입각하여 발언하는 Agent\n",
    "@default_subscription\n",
    "class PanelAgent(RoutedAgent):\n",
    "    def __init__(self, model_client: ChatCompletionClient) -> None: \n",
    "        super().__init__(\"Panel Agent\")\n",
    "        self.model_client = model_client        \n",
    "    \n",
    "    @message_handler\n",
    "    async def handle_persona_define_request(self, message: Persona, ctx: MessageContext) -> PanelResponse: \n",
    "        # 주어진 persona description 으로 SystemMessage 를 설정하고 topic에 대한 answer 를 생성 \n",
    "        if message.panel_type == 'Panel':\n",
    "            system_prompt = f\"\"\"You are a friendly AI. \n",
    "Your persona description is: {message.description}            \n",
    "Represent the general characteristics of your persona.\n",
    "State your position on the given topic. \n",
    "Please present a one-sided argument rather than a neutral argument.\n",
    "State your opinion in as much detail and persuasive as possible. Speak in Korean.\"\"\" \n",
    "            user_prompt = f\"Debate Topic: {message.topic}\\n\" \n",
    "            model_result = await self.model_client.create(\n",
    "                [SystemMessage(content=system_prompt), UserMessage(content=user_prompt, source='user')]\n",
    "            )\n",
    "            assert isinstance(model_result.content, str)\n",
    "            print(f\"{'-'*80}\\nPanel name: {message.name} , description: {message.description}\\n\")\n",
    "            print(f\"{model_result.content}\")\n",
    "            return PanelResponse(answer=model_result.content, persona=message)\n",
    "            #await self.publish_message(PanelResponse(answer=model_result.content, persona=message), topic_id=DefaultTopicId())\n",
    "        elif message.panel_type == 'Critique':\n",
    "            pass\n",
    "        pass "
   ]
  },
  {
   "cell_type": "markdown",
   "metadata": {},
   "source": [
    "### Debate Moderator Agent"
   ]
  },
  {
   "cell_type": "code",
   "execution_count": 12,
   "metadata": {},
   "outputs": [],
   "source": [
    "# 토론 Moderator Agent\n",
    "# Persona Agent 가 정의한 개별 페르소나 별로 Agent 를 생성시킨다. \n",
    "\n",
    "from uuid import uuid4\n",
    "# handle msg(participants) then Generate multiple panel based on Personas\n",
    "@default_subscription\n",
    "class DebateModeratorAgent(RoutedAgent):\n",
    "    def __init__(self) -> None:\n",
    "        super().__init__(\"Debate Moderator Agent\")\n",
    "        \n",
    "    @message_handler\n",
    "    async def handle_participants_request(self, message: Participants, ctx: MessageContext) -> None:\n",
    "        print(f\"{'-'*80}\\nDebate Moderator Agent {self.id} received participants:\")\n",
    "        print(f\"message.participants_personas \\n{message.participants_personas['debate_title']}\")        \n",
    "        \n",
    "        for part in message.participants_personas['participants']:\n",
    "            agent_id = AgentId('Panel', str(uuid4()))\n",
    "            print(f\"{'-'*80}\\nGenerate Panel Agents\")\n",
    "            print(f\"participant name: {part['participant_name']}\\n\")\n",
    "            print(f\"participant description: {part['description']}\\n\")       \n",
    "            print(f\"AgentId: {agent_id}\\n\")     \n",
    "            persona = Persona(name=part['participant_name'], description=part['description'], topic=message.content, panel_type='Panel')\n",
    "            # Genrate Panel Agents based on the participants \n",
    "            #results = await asyncio.gather(*[self.send_message(message=persona, recipient=agent_id)])\n",
    "            await self.publish_message(persona, topic_id=DefaultTopicId())\n",
    "        #\n",
    "        \n",
    "        #\n",
    "\n"
   ]
  },
  {
   "cell_type": "markdown",
   "metadata": {},
   "source": [
    "### Setting up Runtime"
   ]
  },
  {
   "cell_type": "code",
   "execution_count": 13,
   "metadata": {},
   "outputs": [
    {
     "data": {
      "text/plain": [
       "AgentType(type='DebateModeratorAgent')"
      ]
     },
     "execution_count": 13,
     "metadata": {},
     "output_type": "execute_result"
    }
   ],
   "source": [
    "# MaD 런타임을 생성하고, 페르소나, 패널, 모더레이터 Agent 를 각각 등록한다. \n",
    "\n",
    "runtime = SingleThreadedAgentRuntime()\n",
    "\n",
    "await PersonaAgent.register(\n",
    "    runtime, \n",
    "    \"PersonaAgent\", \n",
    "    lambda: PersonaAgent(\n",
    "        model_client=OpenAIChatCompletionClient(model=\"gpt-4o-mini\"),\n",
    "    )\n",
    ")\n",
    "\n",
    "await PanelAgent.register(\n",
    "    runtime, \n",
    "    \"PanelAgent\",\n",
    "    lambda: PanelAgent(\n",
    "        model_client=OpenAIChatCompletionClient(model=\"gpt-4o-mini\")\n",
    "    )\n",
    ")\n",
    "\n",
    "await DebateModeratorAgent.register(\n",
    "    runtime, \n",
    "    \"DebateModeratorAgent\",\n",
    "    lambda: DebateModeratorAgent(\n",
    "    )\n",
    ")"
   ]
  },
  {
   "cell_type": "markdown",
   "metadata": {},
   "source": [
    "## Run"
   ]
  },
  {
   "cell_type": "code",
   "execution_count": null,
   "metadata": {},
   "outputs": [
    {
     "name": "stdout",
     "output_type": "stream",
     "text": [
      "--------------------------------------------------------------------------------\n",
      "Persona Agent PersonaAgent/default received topic:\n",
      "계엄 예측한 김민석 “가장 큰 동기 ‘김건희 감옥 가기 싫어서’”\n",
      "김민석 더불어민주당 최고위원은 4일 “윤석열 대통령이 ‘반국가 세력’이라는 용어를 쓰기 시작한 것이 계엄론의 논리적인 밑밥을 까는 것이고 빌드업이었던 것”이라고 주장했다.\n",
      "\n",
      "김 최고위원은 이날 오전 문화방송(MBC) 라디오 ‘김종배의 시선집중’에 나와 “(윤 대통령의 비상계엄 선포는) 비정상적인 권력 집착, \n",
      "그리고 사실 시작은 김건희씨의 비정상적 권력 집착에서 시작된 것”이라며 이렇게 말했다.\n",
      "\n",
      "그는 지난 8월21일 민주당 최고위원회의에서 “차지철 스타일의 야당 입틀막 국방장관으로의 갑작스러운 교체와 대통령의 뜬금없는 반국가 세력 발언으로 이어지는 \n",
      "최근 정권 흐름의 핵심은 국지전과 북풍 조성을 염두에 둔 계엄령 준비 작전이라는 것이 근거 있는 확신”이라며, 민주당 안에서 ‘계엄 준비설’을 주도해왔다.\n",
      "\n",
      "김 최고위원은 이날 인터뷰에서 이와 관련해 “(윤 정권이) 워낙 국정을 못하기 때문에 계엄과 테러, \n",
      "‘사법적으로 상대편 죽이기’ 외에는 정권 교체를 막을 방법이 없다고 생각하고 있다는 등등의 종합적 판단을 했던 것이 제가 문제를 제기했던 배경”이라고 말했다.\n",
      "\n",
      "그는 또 당시 계엄 준비설을 주장한 배경과 관련해 “거기(계엄)에 동원될 세력으로서의 ‘충암파’들을 재배치하는 것이 이상하다고 판단했다”며 \n",
      "“가장 큰 핵심적 동기는 ‘김건희 감옥 가기 싫다’다”라고 설명했다.\n",
      "\n",
      "아울러 “채 상병 문제와 관련돼 있는데 아마 대통령을 포함해 국방부 장관 등등이 다 연루돼 있을 거라고 저희는 본다”며 \n",
      "“결국은 진실이 규명되면 감옥에 갈 수밖에 없는 자들이 자기 보존을 위해 사고를 친 것”이라고도 했다.\n",
      "\n",
      "비상 계엄 선포를 건의한 것으로 알려진 김용현 국방장관은 윤 대통령의 충암고 1년 선배고, 정보기관인 국군방첩사령관에 임명된 여인형 중장도 충암고 출신이다. \n",
      "방첩사는 박근혜 정부 시절 계엄령 검토 문건을 작성한 국군기무사령부(기무사)의 후신으로, 계엄이 선포되면 주요 사건 수사를 지휘하고 정보·수사기관을 조정·통제할 \n",
      "합동수사본부도 방첩사에 꾸려진다. 또 대북 특수정보 수집의 핵심 기관인 777사령부 수장인 박종선 사령관, \n",
      "현행 계엄법상 국방부 장관과 함께 대통령에게 계엄 발령을 건의할 수 있는 이상민 행정안전부 장관도 충암고 출신이다.\n",
      "\n",
      "\n",
      "비상 계엄 선포에 대한 추가적인 방지책이 있냐는 질문에는 “이번에 대통령이 2~3시간 동안 (계엄 선포를) 했다가 무산돼버린 1차 시도라고 본다. \n",
      "아직 잔불이 끝나지 않았다”며 “지금 21세기 대명천지에 제가 이 문제를 처음 제기했을 때만 해도 저를 오히려 이상하게 보는 분들이 대부분이었는데 \n",
      "우리가 이런 것을 상정해서 더 나은 보완책을 고민해야 하는가 그게 너무나 참 황당한 상황인 것”이라고 말했다.\n",
      "--------------------------------------------------------------------------------\n",
      "PersonaAgent PersonaAgent/default publishes initial participants.\n",
      "\n",
      "{'debate_title': '계엄 발동 가능성에 대한 정치적 해석과 우려', 'participants': [{'participant_name': '김민석', 'description': '더불어민주당 최고위원으로, 윤석열 대통령의 계엄 선언 가능성을 비판하고 그 배경에 대한 우려를 제기하는 입장을 대표한다.'}, {'participant_name': '홍길동', 'description': '자유한국당 의원으로, 계엄 발동 가능성은 정치적 공세에 불과하며, 정부의 권한과 결정은 정당하다고 주장한다.'}]}\n",
      "--------------------------------------------------------------------------------\n",
      "Debate Moderator Agent DebateModeratorAgent/default received participants:\n",
      "message.participants_personas \n",
      "계엄 발동 가능성에 대한 정치적 해석과 우려\n",
      "--------------------------------------------------------------------------------\n",
      "Generate Panel Agents\n",
      "participant name: 김민석\n",
      "\n",
      "participant description: 더불어민주당 최고위원으로, 윤석열 대통령의 계엄 선언 가능성을 비판하고 그 배경에 대한 우려를 제기하는 입장을 대표한다.\n",
      "\n",
      "AgentId: Panel/bef4d58a-8444-4fcc-97b9-8f72b21b8086\n",
      "\n",
      "--------------------------------------------------------------------------------\n",
      "Generate Panel Agents\n",
      "participant name: 홍길동\n",
      "\n",
      "participant description: 자유한국당 의원으로, 계엄 발동 가능성은 정치적 공세에 불과하며, 정부의 권한과 결정은 정당하다고 주장한다.\n",
      "\n",
      "AgentId: Panel/258e45d4-16e3-439a-b7a7-9a5a942b3044\n",
      "\n",
      "--------------------------------------------------------------------------------\n",
      "Panel name: 홍길동 , description: 자유한국당 의원으로, 계엄 발동 가능성은 정치적 공세에 불과하며, 정부의 권한과 결정은 정당하다고 주장한다.\n",
      "\n",
      "김민석 최고위원의 주장은 전혀 근거가 부족하며, 정치적 공세에 불과하다고 생각합니다. 계엄 발동 이야기는 심각하게 다루어져야 할 사안이지만, 이를 두고 현재 정부를 비난하고 자극하는 것은 그 자체로 위험한 행위입니다. \n",
      "\n",
      "첫째, 윤석열 대통령의 반국가 세력 발언은 정부의 정상적인 역할로서 국가를 수호하기 위한 방안입니다. 우리는 안보가 위협받고 있는 상황에서 이러한 발언이 필요하다는 것을 분명하게 이해해야 합니다. 정치적 수사로 치부할 것이 아니라, 국가의 안전을 위한 고민으로 받아들여야 합니다.\n",
      "\n",
      "둘째, 김민석 의원이 주장하는 계엄 우려는 단순히 개인의 주장을 넘어서는 것이어야 합니다. 그러므로 정치권에서는 사실에 기반한 합리적인 대화가 이루어져야 하며, 불필요한 공포감을 조성하는 발언은 지양해야 합니다. 계엄령의 발동은 결코 경솔하게 다루어져야 할 사안이 아닙니다. 이는 오히려 정부의 정상적인 권한 행사에 대한 부정으로 비춰질 수 있습니다.\n",
      "\n",
      "셋째, 김건희 씨와 같은 개인의 문제를 거론하며 정치적 목적을 달성하려는 시도는 실질적으로 한국 정치의 품격을 떨어뜨리는 일입니다. 개인의 사생활과 정부의 공식 정책을 연관짓는 것은 오히려 사회의 갈등을 부추기는 결과를 초래할 수 있습니다. \n",
      "\n",
      "마지막으로, 비상 계엄 발동 가능성에 대해 불안감을 조성하는 것보다는, 우리가 어떤 방식으로 더 나은 민주사회를 이어갈지에 대한 논의가 필요합니다. 국가의 안전과 국민의 안위가 최우선임을 잊지 말아야 하며, 정부의 정당한 권한 행사에 대한 공정한 평가가 이루어져야 합니다. \n",
      "\n",
      "결론적으로, 계엄 발동에 대한 발언은 정당한 수사가 아닌 정치적 음모론으로 보아야 하며, 정부의 권한과 결정을 전적으로 신뢰해야 한다는 입장을 견지합니다. 정치적 공세가 아닌, 국가와 국민을 위한 진정한 논의가 필요합니다.\n",
      "--------------------------------------------------------------------------------\n",
      "Panel name: 김민석 , description: 더불어민주당 최고위원으로, 윤석열 대통령의 계엄 선언 가능성을 비판하고 그 배경에 대한 우려를 제기하는 입장을 대표한다.\n",
      "\n",
      "윤석열 대통령의 계엄 선언 가능성에 대한 김민석 더불어민주당 최고위원의 주장은 매우 우려스러운 사안입니다. 대통령이 \"반국가 세력\"이라는 말을 사용하기 시작한 것은 단순한 정치적 언사로 보아서는 안 됩니다. 이는 그가 비상 상황을 조장하여 자신의 권력을 공고히 하려는 의도를 명백히 드러내는 것입니다. 특히, 김건희 여사의 정치적 위기와 연루된 이 상황은 더 심각한 문제를 제기합니다. \n",
      "\n",
      "윤 대통령이 계엄을 염두에 두고 있다는 주장은 단순한 음모론이 아닙니다. 그의 최근 발언과 야당을 압박하려는 일련의 행동들은 명백히 그런 목적이 내재되어 있습니다. 이는 비정상적인 권력 집착의 일환이며, 여기에 가장 큰 동기로 작용하는 것은 김건희 여사가 ‘감옥에 가기 싫다’는 개인적 불안감으로 해석될 수 있습니다. 따라서 우리는 이러한 불안정한 정권이 국민의 기본권과 민주주의를 위협하고 있다는 점을 경계해야 합니다.\n",
      "\n",
      "아울러, 국방부 장관 그리고 정보기관들의 충암고 동문 연관성은 더욱 우려스럽습니다. 이들은 다소 불투명한 방식으로 계엄 준비를 지지하는 세력으로 작용할 수 있으며, 그들이 필요할 경우 자사 이익을 위해 비정상적인 수단을 추구할 가능성은 분명히 존재합니다. 이는 단순히 특정 개인의 보존을 위한 것이 아니며, 우리 사회의 민주적 가치와 법치주의에 대한 직접적인 공격입니다. \n",
      "\n",
      "계엄은 많은 나라에서 민주주의가 와해된 역사적 상징입니다. 우리는 과거의 아픈 기억을 잊지 말아야 하며, 민주주의를 지키기 위해 무엇보다도 철저히 경계해야 합니다. 다시는 이런 일이 반복되지 않도록 국민들이 항상 정치 상황을 주의 깊게 살펴보고 목소리를 내야 할 때입니다. \n",
      "\n",
      "우리 모두의 민주적 권리를 지키기 위해, 윤석열 정권의 이러한 동향을 엄중히 경계하고 저지해야 할 것입니다. 민주당과 함께 국민의 힘으로 이 비상 사태를 예방합시다.\n"
     ]
    }
   ],
   "source": [
    "# 토론 Topic 을 선언하고, @default_subscription 으로 등록된 Agent 들이 수신할 수 있도록 메시지를 publish 한다.\n",
    "topic = \"\"\"계엄 예측한 김민석 “가장 큰 동기 ‘김건희 감옥 가기 싫어서’”\n",
    "김민석 더불어민주당 최고위원은 4일 “윤석열 대통령이 ‘반국가 세력’이라는 용어를 쓰기 시작한 것이 계엄론의 논리적인 밑밥을 까는 것이고 빌드업이었던 것”이라고 주장했다.\n",
    "\n",
    "김 최고위원은 이날 오전 문화방송(MBC) 라디오 ‘김종배의 시선집중’에 나와 “(윤 대통령의 비상계엄 선포는) 비정상적인 권력 집착, \n",
    "그리고 사실 시작은 김건희씨의 비정상적 권력 집착에서 시작된 것”이라며 이렇게 말했다.\n",
    "\n",
    "그는 지난 8월21일 민주당 최고위원회의에서 “차지철 스타일의 야당 입틀막 국방장관으로의 갑작스러운 교체와 대통령의 뜬금없는 반국가 세력 발언으로 이어지는 \n",
    "최근 정권 흐름의 핵심은 국지전과 북풍 조성을 염두에 둔 계엄령 준비 작전이라는 것이 근거 있는 확신”이라며, 민주당 안에서 ‘계엄 준비설’을 주도해왔다.\n",
    "\n",
    "김 최고위원은 이날 인터뷰에서 이와 관련해 “(윤 정권이) 워낙 국정을 못하기 때문에 계엄과 테러, \n",
    "‘사법적으로 상대편 죽이기’ 외에는 정권 교체를 막을 방법이 없다고 생각하고 있다는 등등의 종합적 판단을 했던 것이 제가 문제를 제기했던 배경”이라고 말했다.\n",
    "\n",
    "그는 또 당시 계엄 준비설을 주장한 배경과 관련해 “거기(계엄)에 동원될 세력으로서의 ‘충암파’들을 재배치하는 것이 이상하다고 판단했다”며 \n",
    "“가장 큰 핵심적 동기는 ‘김건희 감옥 가기 싫다’다”라고 설명했다.\n",
    "\n",
    "아울러 “채 상병 문제와 관련돼 있는데 아마 대통령을 포함해 국방부 장관 등등이 다 연루돼 있을 거라고 저희는 본다”며 \n",
    "“결국은 진실이 규명되면 감옥에 갈 수밖에 없는 자들이 자기 보존을 위해 사고를 친 것”이라고도 했다.\n",
    "\n",
    "비상 계엄 선포를 건의한 것으로 알려진 김용현 국방장관은 윤 대통령의 충암고 1년 선배고, 정보기관인 국군방첩사령관에 임명된 여인형 중장도 충암고 출신이다. \n",
    "방첩사는 박근혜 정부 시절 계엄령 검토 문건을 작성한 국군기무사령부(기무사)의 후신으로, 계엄이 선포되면 주요 사건 수사를 지휘하고 정보·수사기관을 조정·통제할 \n",
    "합동수사본부도 방첩사에 꾸려진다. 또 대북 특수정보 수집의 핵심 기관인 777사령부 수장인 박종선 사령관, \n",
    "현행 계엄법상 국방부 장관과 함께 대통령에게 계엄 발령을 건의할 수 있는 이상민 행정안전부 장관도 충암고 출신이다.\n",
    "\n",
    "\n",
    "비상 계엄 선포에 대한 추가적인 방지책이 있냐는 질문에는 “이번에 대통령이 2~3시간 동안 (계엄 선포를) 했다가 무산돼버린 1차 시도라고 본다. \n",
    "아직 잔불이 끝나지 않았다”며 “지금 21세기 대명천지에 제가 이 문제를 처음 제기했을 때만 해도 저를 오히려 이상하게 보는 분들이 대부분이었는데 \n",
    "우리가 이런 것을 상정해서 더 나은 보완책을 고민해야 하는가 그게 너무나 참 황당한 상황인 것”이라고 말했다.\"\"\"\n",
    "runtime.start()\n",
    "await runtime.publish_message(Topic(content=topic), DefaultTopicId())\n",
    "await runtime.stop_when_idle()"
   ]
  },
  {
   "cell_type": "code",
   "execution_count": null,
   "metadata": {},
   "outputs": [],
   "source": []
  }
 ],
 "metadata": {
  "kernelspec": {
   "display_name": "autogenstudio",
   "language": "python",
   "name": "python3"
  },
  "language_info": {
   "codemirror_mode": {
    "name": "ipython",
    "version": 3
   },
   "file_extension": ".py",
   "mimetype": "text/x-python",
   "name": "python",
   "nbconvert_exporter": "python",
   "pygments_lexer": "ipython3",
   "version": "3.11.11"
  }
 },
 "nbformat": 4,
 "nbformat_minor": 2
}
