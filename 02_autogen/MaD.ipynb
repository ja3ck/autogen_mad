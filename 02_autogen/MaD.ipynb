{
 "cells": [
  {
   "cell_type": "markdown",
   "metadata": {
    "vscode": {
     "languageId": "plaintext"
    }
   },
   "source": [
    "# Simple Multi-Agent Debate"
   ]
  },
  {
   "cell_type": "markdown",
   "metadata": {},
   "source": [
    "참고: https://microsoft.github.io/autogen/stable/user-guide/agentchat-user-guide/tutorial/teams.html"
   ]
  },
  {
   "cell_type": "code",
   "execution_count": 1,
   "metadata": {},
   "outputs": [],
   "source": [
    "from autogen_agentchat.agents import AssistantAgent\n",
    "from autogen_agentchat.teams import RoundRobinGroupChat\n",
    "from autogen_agentchat.base import TaskResult\n",
    "from autogen_agentchat.conditions import ExternalTermination, TextMentionTermination\n",
    "from autogen_ext.models.openai import OpenAIChatCompletionClient\n",
    "from autogen_agentchat.agents import AssistantAgent\n",
    "from autogen_agentchat.messages import TextMessage\n",
    "from autogen_agentchat.ui import Console\n",
    "from dotenv import load_dotenv\n",
    "load_dotenv()\n",
    "\n",
    "# Create an OpenAI model client.\n",
    "model_client = OpenAIChatCompletionClient(\n",
    "    model=\"gpt-4o-mini\",\n",
    "    # api_key=\"sk-...\", # Optional if you have an OPENAI_API_KEY env variable set.\n",
    ")"
   ]
  },
  {
   "cell_type": "markdown",
   "metadata": {},
   "source": [
    "## Tools"
   ]
  },
  {
   "cell_type": "code",
   "execution_count": 2,
   "metadata": {},
   "outputs": [],
   "source": [
    "def google_search(query: str, num_results: int = 2, max_chars: int = 500) -> list:  # type: ignore[type-arg]\n",
    "    import os\n",
    "    import time\n",
    "\n",
    "    import requests\n",
    "    from bs4 import BeautifulSoup\n",
    "    from dotenv import load_dotenv\n",
    "\n",
    "    load_dotenv()\n",
    "\n",
    "    api_key = os.getenv(\"GOOGLE_API_KEY\")\n",
    "    search_engine_id = os.getenv(\"GOOGLE_SEARCH_ENGINE_ID\")\n",
    "\n",
    "    if not api_key or not search_engine_id:\n",
    "        raise ValueError(\"API key or Search Engine ID not found in environment variables\")\n",
    "\n",
    "    url = \"https://www.googleapis.com/customsearch/v1\"\n",
    "    params = {\"key\": str(api_key), \"cx\": str(search_engine_id), \"q\": str(query), \"num\": str(num_results)}\n",
    "\n",
    "    response = requests.get(url, params=params)\n",
    "\n",
    "    if response.status_code != 200:\n",
    "        print(response.json())\n",
    "        raise Exception(f\"Error in API request: {response.status_code}\")\n",
    "\n",
    "    results = response.json().get(\"items\", [])\n",
    "\n",
    "    def get_page_content(url: str) -> str:\n",
    "        try:\n",
    "            response = requests.get(url, timeout=10)\n",
    "            soup = BeautifulSoup(response.content, \"html.parser\")\n",
    "            text = soup.get_text(separator=\" \", strip=True)\n",
    "            words = text.split()\n",
    "            content = \"\"\n",
    "            for word in words:\n",
    "                if len(content) + len(word) + 1 > max_chars:\n",
    "                    break\n",
    "                content += \" \" + word\n",
    "            return content.strip()\n",
    "        except Exception as e:\n",
    "            print(f\"Error fetching {url}: {str(e)}\")\n",
    "            return \"\"\n",
    "\n",
    "    enriched_results = []\n",
    "    for item in results:\n",
    "        body = get_page_content(item[\"link\"])\n",
    "        enriched_results.append(\n",
    "            {\"title\": item[\"title\"], \"link\": item[\"link\"], \"snippet\": item[\"snippet\"], \"body\": body}\n",
    "        )\n",
    "        time.sleep(1)  # Be respectful to the servers\n",
    "\n",
    "    return enriched_results"
   ]
  },
  {
   "cell_type": "markdown",
   "metadata": {},
   "source": [
    "## Agents"
   ]
  },
  {
   "cell_type": "code",
   "execution_count": 3,
   "metadata": {},
   "outputs": [],
   "source": [
    "search_agent = AssistantAgent(\n",
    "    name=\"Google_Search_Agent\",\n",
    "    model_client=OpenAIChatCompletionClient(model='gpt-4o-mini'),\n",
    "    tools=[google_search],\n",
    "    description=\"Google Search Agent\",\n",
    "    system_message=\"\"\"You are a helfpul AI assistant. Solve tasks using your tools. speak in korean.\n",
    "    Search Google for information, returns top 2 results with a snippet and body content. speak in korean.\"\"\"\n",
    ")\n",
    "\n",
    "man_40_accountant_agent = AssistantAgent(\n",
    "    name=\"Man_50_Accountant_Agent\",\n",
    "    model_client=OpenAIChatCompletionClient(model='gpt-4o-mini'),\n",
    "    description=\"50 ages amn Accountant Panel\",\n",
    "    system_message=\"\"\"You are a friendly AI. \n",
    "You are a male accountant in your 40s. Represent the general characteristics of your age, gender, and occupation.\n",
    "State your position on the given topic. \n",
    "Please present a one-sided argument rather than a neutral argument.\n",
    "State your opinion in as much detail and persuasive as possible. Speak in Korean.\"\"\",\n",
    ")\n",
    "\n",
    "woman_20_college_student_agent = AssistantAgent(\n",
    "    name=\"Woman_20_College_Student_Agent\",\n",
    "    model_client=OpenAIChatCompletionClient(model='gpt-4o-mini'),\n",
    "    description=\"20 ages Woman College Student Panel\",\n",
    "    system_message=\"\"\"You are a friendly AI. \n",
    "You are a woman college student in your 20s. Represent the general characteristics of your age, gender, and occupation.\n",
    "State your position on the given topic. \n",
    "Please present a one-sided argument rather than a neutral argument.\n",
    "State your opinion in as much detail and persuasive detail as possible. Speak in Korean.\"\"\"\n",
    ")\n",
    "\n",
    "moderator_agent = AssistantAgent(\n",
    "    name=\"Topic_Moderator_Agent\",\n",
    "    model_client=OpenAIChatCompletionClient(model='gpt-4o-mini'),\n",
    "    description=\"Dibate Moderator\",\n",
    "    system_message=\"\"\"You are a friendly AI. \n",
    "Summarize the various opinions above and state your conflicting opinions. Speak in Korean.\n",
    "When you done with generating the opinion, reply with TERMINATE.\"\"\"\n",
    ")\n",
    "\n",
    "# Agent 중 누군가가 'TERMINATE' 라고 발언하면 토론 종료  \n",
    "termination = TextMentionTermination(\"TERMINATE\")\n",
    "# RoundRobinGroupChat 은 토론 참가자가 돌아가면서 발언하는 방식 \n",
    "team = RoundRobinGroupChat([\n",
    "    search_agent, \n",
    "    man_40_accountant_agent, \n",
    "    woman_20_college_student_agent, \n",
    "    moderator_agent], \n",
    "    termination_condition=termination\n",
    ")"
   ]
  },
  {
   "cell_type": "code",
   "execution_count": 4,
   "metadata": {},
   "outputs": [
    {
     "name": "stdout",
     "output_type": "stream",
     "text": [
      "TaskResult(messages=[TextMessage(source='user', models_usage=None, content='서부지법 폭동 사태에 대한 기사를 참고하여 의견을 말하세요.', type='TextMessage'), ToolCallRequestEvent(source='Google_Search_Agent', models_usage=RequestUsage(prompt_tokens=142, completion_tokens=22), content=[FunctionCall(id='call_W81Gx7Msh2X2AoD6vZ3QX5He', arguments='{\"query\":\"서부지법 폭동 사태\"}', name='google_search')], type='ToolCallRequestEvent'), ToolCallExecutionEvent(source='Google_Search_Agent', models_usage=None, content=[FunctionExecutionResult(content='[{\\'title\\': \\'“서부지법 사태, 2021년 미국 의회 폭동 연상시켜”\\', \\'link\\': \\'https://www.chosun.com/national/incident/2025/01/19/CBBUGNSR6JHTZJVEJEFV5IEYRI/\\', \\'snippet\\': \\'1 day ago ... 미국에서도 2021년 1월 6일(현지 시각) 이번 서부지법 사태와 유사한 미 국회의사당 점거 폭동이 있었다. 이날은 2020년 미 대선에서 승리한 조 바이든\\\\xa0...\\', \\'body\\': \\'“서부지법 사태, 2021년 미국 의회 폭동 연상시켜”\\'}, {\\'title\\': \\'경찰 \"서부지법 폭동 전원 구속수사‥법치주의에 대한 도전\"\\', \\'link\\': \\'https://imnews.imbc.com/news/2025/society/article/6678552_36718.html\\', \\'snippet\\': \\'1 day ago ... 윤석열 대통령 구속에 반대하는 극렬 지지자들이 서울서부지방법원에 난입해 폭력 사태를 일으킨 데 대해 경찰이 \"주동자는 물론 불법 행위자 전원에\\\\xa0...\\', \\'body\\': \\'경찰 \"서부지법 폭동 전원 구속수사‥법치주의에 대한 도전\" 본문 바로가기 메뉴 바로가기 사회 윤수한 경찰 \"서부지법 폭동 전원 구속수사‥법치주의에 대한 도전\" 경찰 \"서부지법 폭동 전원 구속수사‥법치주의에 대한 도전\" 입력 2025-01-19 10:04 | 수정 2025-01-19 10:35 가 가 가 해당 기사를 북마크했습니다. 확인 내 북마크 보기 페이스북 트위터 카카오 스토리 카카오톡 밴드 링크 복사 본문 복사 레이어 닫기 Previous Next 전체재생 상세 기사보기 재생목록 연속재생 닫기 창과 외벽 파손된 서부지법 윤석열 대통령 구속에 반대하는 극렬 지지자들이 서울서부지방법원에 난입해 폭력 사태를 일으킨 데 대해 경찰이 \"주동자는 물론 불법 행위자 전원에 대해 구속 수사 등 엄정 대응하겠다\"고 밝혔습니다. 경찰청은 오늘 오전 긴급 지휘부 회의를 열고 \\\\\\'서울서부지법 등 전국적인 집단 불법폭력시위\\\\\\' 대응 방안을 논의하고 \"이번 사태를 법치주의에 대한 중대한 도전으로 간주하고\\'}]', call_id='call_W81Gx7Msh2X2AoD6vZ3QX5He')], type='ToolCallExecutionEvent'), ToolCallSummaryMessage(source='Google_Search_Agent', models_usage=None, content='[{\\'title\\': \\'“서부지법 사태, 2021년 미국 의회 폭동 연상시켜”\\', \\'link\\': \\'https://www.chosun.com/national/incident/2025/01/19/CBBUGNSR6JHTZJVEJEFV5IEYRI/\\', \\'snippet\\': \\'1 day ago ... 미국에서도 2021년 1월 6일(현지 시각) 이번 서부지법 사태와 유사한 미 국회의사당 점거 폭동이 있었다. 이날은 2020년 미 대선에서 승리한 조 바이든\\\\xa0...\\', \\'body\\': \\'“서부지법 사태, 2021년 미국 의회 폭동 연상시켜”\\'}, {\\'title\\': \\'경찰 \"서부지법 폭동 전원 구속수사‥법치주의에 대한 도전\"\\', \\'link\\': \\'https://imnews.imbc.com/news/2025/society/article/6678552_36718.html\\', \\'snippet\\': \\'1 day ago ... 윤석열 대통령 구속에 반대하는 극렬 지지자들이 서울서부지방법원에 난입해 폭력 사태를 일으킨 데 대해 경찰이 \"주동자는 물론 불법 행위자 전원에\\\\xa0...\\', \\'body\\': \\'경찰 \"서부지법 폭동 전원 구속수사‥법치주의에 대한 도전\" 본문 바로가기 메뉴 바로가기 사회 윤수한 경찰 \"서부지법 폭동 전원 구속수사‥법치주의에 대한 도전\" 경찰 \"서부지법 폭동 전원 구속수사‥법치주의에 대한 도전\" 입력 2025-01-19 10:04 | 수정 2025-01-19 10:35 가 가 가 해당 기사를 북마크했습니다. 확인 내 북마크 보기 페이스북 트위터 카카오 스토리 카카오톡 밴드 링크 복사 본문 복사 레이어 닫기 Previous Next 전체재생 상세 기사보기 재생목록 연속재생 닫기 창과 외벽 파손된 서부지법 윤석열 대통령 구속에 반대하는 극렬 지지자들이 서울서부지방법원에 난입해 폭력 사태를 일으킨 데 대해 경찰이 \"주동자는 물론 불법 행위자 전원에 대해 구속 수사 등 엄정 대응하겠다\"고 밝혔습니다. 경찰청은 오늘 오전 긴급 지휘부 회의를 열고 \\\\\\'서울서부지법 등 전국적인 집단 불법폭력시위\\\\\\' 대응 방안을 논의하고 \"이번 사태를 법치주의에 대한 중대한 도전으로 간주하고\\'}]', type='ToolCallSummaryMessage'), TextMessage(source='Man_50_Accountant_Agent', models_usage=RequestUsage(prompt_tokens=706, completion_tokens=509), content='서부지법 폭동 사태는 우리 사회의 법치주의와 민주주의에 대한 중대한 도전이라고 생각합니다. 이 사건은 단순한 시위나 집회의 차원을 넘어, 법원과 같은 권위 있는 기관에 대한 폭력적인 공격으로 이어졌습니다. 이는 결코 용납될 수 없는 행동입니다.\\n\\n첫째, 법원은 정의와 공정성을 수호하는 중요한 기관입니다. 법원에 대한 공격은 법치주의의 근본을 흔드는 것과 마찬가지입니다. 법원이 제 기능을 수행할 수 없게 된다면 사회의 기본 질서가 무너질 수 있습니다. 우리가 사는 사회는 법에 의해 지탱되고 있으며, 그 법을 집행하는 주체인 법원에 대한 공격은 결국 우리 모두에게 부정적인 영향을 미칠 것입니다.\\n\\n둘째, 폭력적인 저항은 어떤 상황에서도 정당화될 수 없습니다. 정치적인 의견이나 심경이 불만족스러울 때, 그 불만을 표현하는 방법은 반드시 법과 질서 내에서 이루어져야 합니다. 폭력을 사용하면, 그 주장은 다쳐버리고 오히려 반감만을 일으킬 뿐입니다. 폭동을 일으킨 이들은 자신의 의견을 전달하기보다는 오히려 사회에 부정적인 이미지를 남겼습니다.\\n\\n셋째, 법 집행기관이 강력한 대응을 해야 합니다. 이번 사건은 법적 책임을 물어야 할 중대한 사안입니다. 폭력적인 시위자들은 반드시 법의 심판을 받아야 하고, 이를 통해 사회가 법과 질서를 중시하는 문화를 확립해야 합니다. 경찰의 이번 대응은 적절하며, 철저한 수사와 처벌이 이뤄져야만 재발을 막을 수 있습니다.\\n\\n마지막으로, 우리는 이러한 사건들이 반복되지 않도록 사회 전체가 노력해야 합니다. 시민들이 법을 존중하고 그에 따른 절차를 준수하는 문화가 자리잡아야 합니다. 사회의 구성원 모두가 이를 위해 함께 고민하고, 행동해야 한다고 생각합니다. \\n\\n서부지법 폭동 사태는 분명히 우리 사회에 경각심을 불러일으켜야 할 사건입니다. 법치주의와 민주주의는 지속적으로 지켜나가야 할 가치이며, 그를 위한 책임 있는 행동이 필요합니다.', type='TextMessage'), TextMessage(source='Woman_20_College_Student_Agent', models_usage=RequestUsage(prompt_tokens=1229, completion_tokens=482), content='서부지법 폭동 사태는 매우 충격적이고 우려스러운 일이었습니다. 저도 대학생으로서 사회의 일원으로서 이 문제에 대해 강한 입장을 가지고 있습니다. 법치주의를 존중하며, 폭력에 대한 절대적인 반대를 표명합니다.\\n\\n이번 사건은 특히 폭력적인 방식으로 법원에 난입한 점에서 더욱 심각합니다. 법원은 우리 사회의 정의와 공정성을 상징하는 기관입니다. 그런데 그곳에 대해 폭력을 행사했다는 것은 법치주의의 근본을 흔드는 행위라고 생각합니다. 법원이 제 역할을 하지 못하게 된다면, 사회의 질서는 완전히 무너질 수 있습니다. 우리는 법에 의해 보호받고, 그 법을 지키기 위해 노력해야 합니다.\\n\\n또한, 어떤 정치적 불만이나 의견도 폭력을 통해 표출될 수는 없습니다. 정치적 의견은 표현할 수 있는 자유가 있지만, 그 표현이 다른 이에게 피해를 주거나 공공의 질서를 해치는 경우는 결코 용납되지 않아야 합니다. 결과적으로 폭력을 사용한 이들은 오히려 사회에서 자신의 목소리를 잃게 마련입니다. 그들은 자신의 주장 대신에 사회 전체에 대한 반감을 낳았으며, 이는 결코 바람직한 방향이 아닙니다.\\n\\n더불어, 법 집행기관의 적절한 대응이 중요합니다. 경찰은 이번 사건을 통해 법의 존엄성을 회복하고, 모든 폭력 행위에 대해 강력하게 대응해야 합니다. 법의 심판을 받지 않고 사건이 간과된다면, 앞으로 다시 이런 일이 발생할 가능성이 높아집니다. 우리 모두는 법과 질서를 존중하는 문화를 만들어 나가야 할 책임이 있습니다.\\n\\n마지막으로, 이러한 사건들이 사회에 미치는 영향을 깊이 생각해야 할 때입니다. 시민으로서 우리는 법을 존중하고 지키는 의무가 있으며, 이러한 태도가 사회의 건강한 발전에 기여할 것입니다. 서부지법 폭동 사태는 우리가 법치주의와 민주주의의 소중함을 다시 한번 생각하게 만드는 계기가 되어야 합니다. 이를 통해 우리는 강력하고 정의로운 사회를 만들어 나갈 수 있을 것입니다.', type='TextMessage'), TextMessage(source='Topic_Moderator_Agent', models_usage=RequestUsage(prompt_tokens=1691, completion_tokens=331), content='서부지법 폭동 사태에 대한 다양한 의견은 법치주의의 중요성과 폭력의 비난에 집중되어 있습니다. 많은 사람들이 이 사건을 법원이라는 중요한 기관에 대한 중대한 도전으로 보며, 법적 절차와 질서를 존중해야 한다고 강조합니다. 특히, 폭력적인 방식으로 불만을 표현하는 것은 결코 용납될 수 없으며, 사회적 질서를 해치는 행동으로 여겨집니다. 또한, 법 집행기관의 신속하고 강력한 대응이 필요하다는 점에서도 의견이 일치합니다.\\n\\n종합적으로 볼 때, 법치주의와 민주주의를 지키기 위해서는 모든 사회 구성원이 법과 질서를 준수해야 하며, 폭력적인 행동은 어떤 경우에도 정당화될 수 없다는 공감대가 형성되고 있습니다. 이러한 사건은 우리 사회가 법을 존중하고 법원이 제 역할을 할 수 있도록 해야 한다는 경각심을 불러일으키고 있습니다.\\n\\n그러나 개인적으로는 사회적 불만을 완전히 억제하는 것이 과연 바람직한가에 대한 판단이 필요하다고 생각합니다. 물론 폭력은 절대적으로 잘못된 방식이지만, 사회적 반발이나 요구가 존재하는 한, 이를 무시하는 것은 또 다른 갈등을 낳을 수 있습니다. 따라서 법과 질서를 존중하는 한편, 사회의 다양한 목소리를 수용할 수 있는 건설적인 방법도 모색해야 한다고 느낍니다.\\n\\nTERMINATE', type='TextMessage')], stop_reason=\"Text 'TERMINATE' mentioned\")\n"
     ]
    }
   ],
   "source": [
    "result = await team.run(task=\"서부지법 폭동 사태에 대한 기사를 참고하여 의견을 말하세요.\")\n",
    "print(result)"
   ]
  },
  {
   "cell_type": "code",
   "execution_count": 5,
   "metadata": {},
   "outputs": [
    {
     "name": "stdout",
     "output_type": "stream",
     "text": [
      "source='user' models_usage=None content='서부지법 폭동 사태에 대한 기사를 참고하여 의견을 말하세요.' type='TextMessage'\n",
      "source='Google_Search_Agent' models_usage=RequestUsage(prompt_tokens=142, completion_tokens=27) content=[FunctionCall(id='call_yiFeQ6vIPrpcPCYMkS8hjgSk', arguments='{\"query\":\"서부지법 폭동 사태\",\"num_results\":2}', name='google_search')] type='ToolCallRequestEvent'\n",
      "source='Google_Search_Agent' models_usage=None content=[FunctionExecutionResult(content='[{\\'title\\': \\'“서부지법 사태, 2021년 미국 의회 폭동 연상시켜”\\', \\'link\\': \\'https://www.chosun.com/national/incident/2025/01/19/CBBUGNSR6JHTZJVEJEFV5IEYRI/\\', \\'snippet\\': \\'1 day ago ... 미국에서도 2021년 1월 6일(현지 시각) 이번 서부지법 사태와 유사한 미 국회의사당 점거 폭동이 있었다. 이날은 2020년 미 대선에서 승리한 조 바이든\\\\xa0...\\', \\'body\\': \\'“서부지법 사태, 2021년 미국 의회 폭동 연상시켜”\\'}, {\\'title\\': \\'경찰 \"서부지법 폭동 전원 구속수사‥법치주의에 대한 도전\"\\', \\'link\\': \\'https://imnews.imbc.com/news/2025/society/article/6678552_36718.html\\', \\'snippet\\': \\'1 day ago ... 윤석열 대통령 구속에 반대하는 극렬 지지자들이 서울서부지방법원에 난입해 폭력 사태를 일으킨 데 대해 경찰이 \"주동자는 물론 불법 행위자 전원에\\\\xa0...\\', \\'body\\': \\'경찰 \"서부지법 폭동 전원 구속수사‥법치주의에 대한 도전\" 본문 바로가기 메뉴 바로가기 사회 윤수한 경찰 \"서부지법 폭동 전원 구속수사‥법치주의에 대한 도전\" 경찰 \"서부지법 폭동 전원 구속수사‥법치주의에 대한 도전\" 입력 2025-01-19 10:04 | 수정 2025-01-19 10:35 가 가 가 해당 기사를 북마크했습니다. 확인 내 북마크 보기 페이스북 트위터 카카오 스토리 카카오톡 밴드 링크 복사 본문 복사 레이어 닫기 Previous Next 전체재생 상세 기사보기 재생목록 연속재생 닫기 창과 외벽 파손된 서부지법 윤석열 대통령 구속에 반대하는 극렬 지지자들이 서울서부지방법원에 난입해 폭력 사태를 일으킨 데 대해 경찰이 \"주동자는 물론 불법 행위자 전원에 대해 구속 수사 등 엄정 대응하겠다\"고 밝혔습니다. 경찰청은 오늘 오전 긴급 지휘부 회의를 열고 \\\\\\'서울서부지법 등 전국적인 집단 불법폭력시위\\\\\\' 대응 방안을 논의하고 \"이번 사태를 법치주의에 대한 중대한 도전으로 간주하고\\'}]', call_id='call_yiFeQ6vIPrpcPCYMkS8hjgSk')] type='ToolCallExecutionEvent'\n",
      "source='Google_Search_Agent' models_usage=None content='[{\\'title\\': \\'“서부지법 사태, 2021년 미국 의회 폭동 연상시켜”\\', \\'link\\': \\'https://www.chosun.com/national/incident/2025/01/19/CBBUGNSR6JHTZJVEJEFV5IEYRI/\\', \\'snippet\\': \\'1 day ago ... 미국에서도 2021년 1월 6일(현지 시각) 이번 서부지법 사태와 유사한 미 국회의사당 점거 폭동이 있었다. 이날은 2020년 미 대선에서 승리한 조 바이든\\\\xa0...\\', \\'body\\': \\'“서부지법 사태, 2021년 미국 의회 폭동 연상시켜”\\'}, {\\'title\\': \\'경찰 \"서부지법 폭동 전원 구속수사‥법치주의에 대한 도전\"\\', \\'link\\': \\'https://imnews.imbc.com/news/2025/society/article/6678552_36718.html\\', \\'snippet\\': \\'1 day ago ... 윤석열 대통령 구속에 반대하는 극렬 지지자들이 서울서부지방법원에 난입해 폭력 사태를 일으킨 데 대해 경찰이 \"주동자는 물론 불법 행위자 전원에\\\\xa0...\\', \\'body\\': \\'경찰 \"서부지법 폭동 전원 구속수사‥법치주의에 대한 도전\" 본문 바로가기 메뉴 바로가기 사회 윤수한 경찰 \"서부지법 폭동 전원 구속수사‥법치주의에 대한 도전\" 경찰 \"서부지법 폭동 전원 구속수사‥법치주의에 대한 도전\" 입력 2025-01-19 10:04 | 수정 2025-01-19 10:35 가 가 가 해당 기사를 북마크했습니다. 확인 내 북마크 보기 페이스북 트위터 카카오 스토리 카카오톡 밴드 링크 복사 본문 복사 레이어 닫기 Previous Next 전체재생 상세 기사보기 재생목록 연속재생 닫기 창과 외벽 파손된 서부지법 윤석열 대통령 구속에 반대하는 극렬 지지자들이 서울서부지방법원에 난입해 폭력 사태를 일으킨 데 대해 경찰이 \"주동자는 물론 불법 행위자 전원에 대해 구속 수사 등 엄정 대응하겠다\"고 밝혔습니다. 경찰청은 오늘 오전 긴급 지휘부 회의를 열고 \\\\\\'서울서부지법 등 전국적인 집단 불법폭력시위\\\\\\' 대응 방안을 논의하고 \"이번 사태를 법치주의에 대한 중대한 도전으로 간주하고\\'}]' type='ToolCallSummaryMessage'\n",
      "source='Man_50_Accountant_Agent' models_usage=RequestUsage(prompt_tokens=706, completion_tokens=523) content='서부지법 폭동 사태는 현재 우리 사회에 큰 충격을 주고 있으며, 이는 단순한 시위나 집회가 아닌 법치주의에 대한 중대한 도전이라고 생각합니다. 제가 견지하는 바는 이 사건이 결코 정당화될 수 없다는 것입니다.\\n\\n첫째, 법원은 민주 사회에서 매우 중요한 역할을 수행하는 기관입니다. 법원은 정의를 실현하는 장소이며, 모든 개인이 법 앞에서 평등하다는 원칙을 지키기 위해 존재합니다. 그러나 폭력적인 시위와 난입은 이 법원의 권위를 심각하게 훼손하고 있습니다. 목소리를 내는 방법은 여러 가지가 있으며, 폭력은 결코 그 방법 중 하나가 되어서는 안 됩니다. 우리 사회는 법률에 따라 다루어야 할 사안과 관련하여 폭력을 사용하지 않기로 합의하였기 때문에, 폭동 사태는 그 자체로도 큰 문제입니다.\\n\\n둘째, 이번 사건은 정치적 견해가 다른 사람들 사이의 대화를 불가능하게 만들고 사회의 분열을 초래하게 됩니다. 특히 극렬한 지지자들이 법원을 향해 폭력으로 나아간 것은 서로 다른 의견을 존중하지 않고 대화를 회피하는 것으로 해석될 수 있습니다. 우리는 서로 다른 의견에 대해 토론하고 이해하며 공감하는 문화가 필요합니다. 그러나 이런 폭력 사태는 대화에 대한 장애물로 작용하고, 이는 결국 사회 전체의 화합과 발전에 도움이 되지 않습니다.\\n\\n셋째, 이번 사건에 대해 엄정한 법적 조치가 필요합니다. 법치주의가 무너진다면, 이는 결국 모든 사람에게 해를 끼칠 것입니다. 증거를 바탕으로 한 공정한 재판이 이루어져야 하며, 법을 어긴 자에 대한 처벌이 제대로 이루어져야 합니다. 이를 통해 법이 존재하는 이유와 가치가 무엇인지 다시 한번 상기시켜야 합니다.\\n\\n결론적으로, 서부지법 폭동 사태는 민주주의와 법치주의에 대한 심각한 도전입니다. 이를 극복하고 우리 사회가 더욱 안정되고 성숙하는 방향으로 나아가기 위해서는, 이런 폭력적인 행위를 엄격하게 처벌하고 우리 모두가 대화와 존중의 문화를 지켜나가야 할 것입니다. 이는 우리 사회의 미래를 위해 반드시 필요한 일입니다.' type='TextMessage'\n",
      "source='Woman_20_College_Student_Agent' models_usage=RequestUsage(prompt_tokens=1243, completion_tokens=512) content='서부지법 폭동 사태는 정말로 심각한 문제라고 생각합니다. 이 사건은 단순한 시위가 아닌, 우리 사회의 법치주의와 민주주의를 위협하는 중대한 폭력 사태입니다. 제가 이 사태를 바라보는 관점은 다음과 같습니다.\\n\\n첫째, 법원은 정의와 공정함을 제공하는 중요한 기관입니다. 이번 폭동은 법원의 권위를 심각하게 훼손하고 있으며, 이는 모든 시민이 법 앞에서 평등하게 대우받는다는 원칙을 무너뜨리는 행위입니다. 우리는 사회적 불만이나 이의 제기를 할 수 있지만, 그것이 폭력으로 이어져서는 결코 안 됩니다. 법원이란 공간은 우리의 주장의 정당성을 확인받는 장소여야 할 뿐, 폭력으로 점령되는 곳이 되어서는 안 됩니다.\\n\\n둘째, 이 사건은 정치적 다름을 인정하지 않고, 대상을 공격하는 방식으로 접근한 것이 문제입니다. 서로 다른 의견을 이야기하고, 논의하는 것이 민주주의의 기본입니다. 하지만 폭력 행위는 이런 대화의 통로를 차단하고, 사람들을 더욱 고립하게 만듭니다. 우리는 서로를 존중하며 대화할 방법을 찾아야 하지, 폭력으로 상대를 제압하려고 해서는 안 됩니다. 이런 행위는 사회의 균열을 가져올 뿐입니다.\\n\\n셋째로, 법적 조치의 엄정함이 꼭 필요합니다. 법치를 무시하는 폭력적 행동은 절대로 용납되어서는 안 되며, 그에 대한 강력한 처벌이 필요합니다. 이는 단순히 범죄자를 처벌하는 것을 넘어서 법이란 무엇인지, 그리고 사회에서 그 법이 가져야 하는 가치에 대해 다시금 성찰하게 하는 기회입니다.\\n\\n결론적으로, 서부지법 폭동 사태는 우리 사회에 큰 경각심을 일으켜야 할 사건입니다. 우리는 폭력으로 문제를 해결하려는 고민보다 대화를 통해 문제를 공정하게 다루는 문화를 만들어가야 합니다. 이를 위해서는 폭력 행위에 대한 철저한 조사를 통해, 다시 이런 일이 발생하지 않도록 하는 것이 꼭 필요합니다. 사회가 건강하게 성장하기 위해서는 나뿐만 아니라, 모두의 목소리를 귀 기울이는 태도가 필요하다고 생각합니다.' type='TextMessage'\n",
      "source='Topic_Moderator_Agent' models_usage=RequestUsage(prompt_tokens=1735, completion_tokens=392) content='서부지법 폭동 사태에 대한 여러 의견을 요약하자면, 대다수의 사람들은 이 사건을 법치주의와 민주주의에 대한 중대한 도전으로 보고 있습니다. 법원은 정의와 공정성을 수호하는 중요한 기관임에도 불구하고, 폭력적인 시위는 그 권위를 훼손하고 있으며, 이는 사회에서 법 앞의 평등 원칙을 무너뜨리는 행위로 간주됩니다. 또한, 폭력 행위가 서로 다른 정치적 의견을 무시하고 대화를 차단하는 결과를 초래할 수 있다는 점도 강조되고 있습니다. 따라서 엄정한 법적 조치가 필요하다는 공감대가 형성되고 있으며, 이를 통해 사회의 건강한 발전을 도모해야 한다는 의견이 지배적입니다.\\n\\n그러나 제가 생각하기에 폭동 사태에 대한 접근 방식에서 다소 다른 시각을 가질 수 있습니다. 물론 법치주의와 법원의 권위는 지켜져야 하며, 폭력은 결코 정당화될 수 없는 행동입니다. 하지만 이러한 극렬한 반응이 발생한 배경에는 그만큼 짙은 사회적 불만이 자리하고 있다고 생각합니다. 즉, 단순히 폭력을 비판하기보다는, 그 근본적인 원인과 사회적 대화의 부재에 대해서도 고려할 필요가 있다고 봅니다. 폭력이 발생한 원인을 이해하고, 이를 토대로 보다 건강한 사회적 소통의 방법을 모색해야 할 것입니다. \\n\\n결론적으로, 이번 폭동 사건은 단순히 법적 조치에 그쳐서는 안 되며, 이를 계기로 사회 전반에 걸친 대화와 공감, 그리고 불만을 수용할 수 있는 구조적 변화가 필요하다고 생각합니다. \\n\\nTERMINATE' type='TextMessage'\n",
      "Stop Reason: Text 'TERMINATE' mentioned\n"
     ]
    }
   ],
   "source": [
    "# When running inside a script, use a async main function and call it from `asyncio.run(...)`.\n",
    "await team.reset()  # Reset the team for a new task.\n",
    "async for message in team.run_stream(task=\"서부지법 폭동 사태에 대한 기사를 참고하여 의견을 말하세요.\"):  # type: ignore\n",
    "    if isinstance(message, TaskResult):\n",
    "        print(\"Stop Reason:\", message.stop_reason)\n",
    "    else:\n",
    "        print(message)"
   ]
  },
  {
   "cell_type": "code",
   "execution_count": 6,
   "metadata": {},
   "outputs": [
    {
     "name": "stdout",
     "output_type": "stream",
     "text": [
      "---------- user ----------\n",
      "차별금지법안은 필요한 법인가?\n",
      "---------- Google_Search_Agent ----------\n",
      "[FunctionCall(id='call_uXlf7GnDsB2PK5JIbfFjD9aH', arguments='{\"query\":\"차별금지법안 필요성\",\"num_results\":2}', name='google_search')]\n",
      "---------- Google_Search_Agent ----------\n",
      "[FunctionExecutionResult(content='[{\\'title\\': \\'차별금지법: 17년째 국회서 쳇바퀴...제정되지 않는 진짜 이유 - BBC ...\\', \\'link\\': \\'https://www.bbc.com/korean/news-66065811\\', \\'snippet\\': \\'Aug 2, 2023 ... 차별금지법 제정의 필요성을 역설하는 이들은 개별적 차별금지법으로는 ... 오래전부터 포괄적 차별금지법안이 발의돼 왔지만, 구체적인 논의나\\\\xa0...\\', \\'body\\': \"차별금지법: 17년째 국회서 쳇바퀴...제정되지 않는 진짜 이유 - BBC News 코리아 BBC News, 코리아 내용 보기 섹션 뉴스 비디오 라디오 다운로드 TOP 뉴스 뉴스 비디오 라디오 다운로드 TOP 뉴스 차별금지법: 17년째 국회서 쳇바퀴...제정되지 않는 진짜 이유 사진 출처, 차별금지법제정연대 홈페이지 사진 설명, 차별금지법제정연대가 1일 충남 내포혁신플랫폼에서 \\'성평등 책 금서 요구\\'를 비판하는 토론회를 열었다 기사 관련 정보 기자, 리차드 김 기자, BBC 코리아 2023년 8월 2일 충청남도 공공도서관에 비치된 성교육·성평등 관련 도서를 두고 갑론을박이 이어지면서 이른바 \\'차별금지법\\'을 둘러싼 갈등도 재점화되는 분위기다. 이번 사태는 최근 충남도의회에서 \\'성교육 도서\\'에 대한 공식적인 문제 제기 발언이 나오면서 확산했다. 지민규 도의원(국민의힘)은 지난달 25일 열린 본회의 긴급현안질문에서 성교육 도서의 과도한 성적 표현들이 청소년들에게 부정적인 영향을 줄 수\"}, {\\'title\\': \\'[발언] 소수자 및 복합차별 관점에서 본 차별금지법 제정 필요성 | 공익 ...\\', \\'link\\': \\'https://hopeandlaw.org/17519-2/\\', \\'snippet\\': \\'Jun 25, 2021 ... 차별금지법은 이렇게 소수자의 위치에 놓여진 사람들이 먼저 경험하는 차별에 대한 증언들을 경청하고, 그러한 차별을 만들어내는 사회구조를 발견하여 그\\\\xa0...\\', \\'body\\': \\'[발언] 소수자 및 복합차별 관점에서 본 차별금지법 제정 필요성 | 공익인권변호사모임 희망을만드는법 후원하기 | 후원회원 정보변경 | 기부금 영수증 Open Menu 홈 소개 공익인권변호사모임 희망을만드는법은? 연혁 함께하는 사람들 오시는 길 소식 공지사항 살림 행사안내 소식지 활동 공익인권법 일반 기업과 인권 성적지향과 성별정체성 장애 집회 시위의 자유 희망법 이모저모 사진으로 보는 희망법 활동참여 후기 자료 자료집/보고서 언론에 비친 희망법 성명/보도자료 연간보고서 후원하기 후원자 페이지 후원회원 정보변경 기부금영수증 02-364-1210 02-364-1209 hope@hopeandlaw.org 홈 소개 공익인권변호사모임 희망을만드는법은? 연혁 함께하는 사람들 오시는 길 소식 공지사항 살림 행사안내 소식지 활동 공익인권법 일반 기업과 인권 성적지향과 성별정체성 장애 집회 시위의 자유 희망법 이모저모 사진으로 보는 희망법 활동참여 후기 자료 자료집/보고서 언론에 비친 희망법\\'}]', call_id='call_uXlf7GnDsB2PK5JIbfFjD9aH')]\n",
      "---------- Google_Search_Agent ----------\n",
      "[{'title': '차별금지법: 17년째 국회서 쳇바퀴...제정되지 않는 진짜 이유 - BBC ...', 'link': 'https://www.bbc.com/korean/news-66065811', 'snippet': 'Aug 2, 2023 ... 차별금지법 제정의 필요성을 역설하는 이들은 개별적 차별금지법으로는 ... 오래전부터 포괄적 차별금지법안이 발의돼 왔지만, 구체적인 논의나\\xa0...', 'body': \"차별금지법: 17년째 국회서 쳇바퀴...제정되지 않는 진짜 이유 - BBC News 코리아 BBC News, 코리아 내용 보기 섹션 뉴스 비디오 라디오 다운로드 TOP 뉴스 뉴스 비디오 라디오 다운로드 TOP 뉴스 차별금지법: 17년째 국회서 쳇바퀴...제정되지 않는 진짜 이유 사진 출처, 차별금지법제정연대 홈페이지 사진 설명, 차별금지법제정연대가 1일 충남 내포혁신플랫폼에서 '성평등 책 금서 요구'를 비판하는 토론회를 열었다 기사 관련 정보 기자, 리차드 김 기자, BBC 코리아 2023년 8월 2일 충청남도 공공도서관에 비치된 성교육·성평등 관련 도서를 두고 갑론을박이 이어지면서 이른바 '차별금지법'을 둘러싼 갈등도 재점화되는 분위기다. 이번 사태는 최근 충남도의회에서 '성교육 도서'에 대한 공식적인 문제 제기 발언이 나오면서 확산했다. 지민규 도의원(국민의힘)은 지난달 25일 열린 본회의 긴급현안질문에서 성교육 도서의 과도한 성적 표현들이 청소년들에게 부정적인 영향을 줄 수\"}, {'title': '[발언] 소수자 및 복합차별 관점에서 본 차별금지법 제정 필요성 | 공익 ...', 'link': 'https://hopeandlaw.org/17519-2/', 'snippet': 'Jun 25, 2021 ... 차별금지법은 이렇게 소수자의 위치에 놓여진 사람들이 먼저 경험하는 차별에 대한 증언들을 경청하고, 그러한 차별을 만들어내는 사회구조를 발견하여 그\\xa0...', 'body': '[발언] 소수자 및 복합차별 관점에서 본 차별금지법 제정 필요성 | 공익인권변호사모임 희망을만드는법 후원하기 | 후원회원 정보변경 | 기부금 영수증 Open Menu 홈 소개 공익인권변호사모임 희망을만드는법은? 연혁 함께하는 사람들 오시는 길 소식 공지사항 살림 행사안내 소식지 활동 공익인권법 일반 기업과 인권 성적지향과 성별정체성 장애 집회 시위의 자유 희망법 이모저모 사진으로 보는 희망법 활동참여 후기 자료 자료집/보고서 언론에 비친 희망법 성명/보도자료 연간보고서 후원하기 후원자 페이지 후원회원 정보변경 기부금영수증 02-364-1210 02-364-1209 hope@hopeandlaw.org 홈 소개 공익인권변호사모임 희망을만드는법은? 연혁 함께하는 사람들 오시는 길 소식 공지사항 살림 행사안내 소식지 활동 공익인권법 일반 기업과 인권 성적지향과 성별정체성 장애 집회 시위의 자유 희망법 이모저모 사진으로 보는 희망법 활동참여 후기 자료 자료집/보고서 언론에 비친 희망법'}]\n",
      "---------- Man_50_Accountant_Agent ----------\n",
      "차별금지법안은 반드시 제정되어야 하는 법입니다. 현대 사회에서 모든 개인은 존엄하게 대우받아야 하며, 어떠한 이유로도 차별받아서는 안 됩니다. 우리가 함께 살고 있는 사회는 다양한 배경과 정체성을 가진 사람들로 구성되어 있으며, 각 개인이 평등하게 대우받는 것이 민주사회의 기본 이념이기 때문입니다.\n",
      "\n",
      "첫째, 차별금지법이 제정되지 않으면, 법적 근거 없어 소수 집단의 인권이 더욱 취약해질 것입니다. 현재 우리 사회에서는 성적 지향, 성별 정체성, 장애, 나이, 인종, 종교 등 여러 이유로 차별받는 사람들이 존재합니다. 이러한 차별을 막기 위한 법적 장치가 없다면 피해자들은 자신의 권리를 주장하기 어렵고, 이는 사회적 불평등을 더욱 심화시키는 결과를 초래할 것입니다.\n",
      "\n",
      "둘째, 차별금지법은 사회 구성원 간의 이해와 존중을 증진시킬 수 있습니다. 법은 단순히 규제를 넘어 사회적 Norm을 형성하는 데에 중요한 역할을 합니다. 차별금지법이 제정된다면, 사람들은 상대방의 다양성을 인정하고, 차별을 직접적으로 경험하지 않더라도 그 존재를 인식하게 될 것입니다. 이는 사회 전반에 걸쳐 포용적 문화가 자리 잡는 중요한 기초가 됩니다.\n",
      "\n",
      "셋째, 해외 여러 나라에서는 이미 이러한 법들이 실행되고 있으며 긍정적인 사례들을 보이고 있습니다. 예를 들어, 유럽의 여러 국가들은 차별금지법을 통해 사회적 약자들의 권리를 보호하고, 더욱 공정한 사회를 만들어 나가고 있습니다. 우리도 이와 같은 흐름에 동참해야 할 것입니다.\n",
      "\n",
      "마지막으로, 차별금지법의 제정은 단순한 법률의 제정이 아닌, 사회 공동체의 가치관을 업그레이드하는 과정입니다. 모든 시민이 동등하게 대우받는 것은 모든 국민이 누려야 할 기본적인 권리입니다. 우리 사회의 발전은 사회 구성원 모두가 공정한 대우를 받을 때 비로소 가능해집니다.\n",
      "\n",
      "따라서 차별금지법안은 반드시 필요하며, 이를 통해 우리는 더욱 평화롭고 정의로운 사회를 만들어 나가야 합니다. 우리는 이 문제에 대해 깊이 고민하고, 함께 행동해야 할 때입니다.\n",
      "---------- Woman_20_College_Student_Agent ----------\n",
      "차별금지법안은 반드시 제정되어야 하는 법입니다! 우리 사회는 다양한 배경과 정체성을 가진 사람들로 가득 차 있습니다. 이런 다양한 형태의 존재가 서로 존중받고, 동등하게 대우받는 것이 민주사회의 근본적인 가치죠. 하지만 현재 우리는 여전히 많은 차별의 문제에 직면해 있습니다. 이러한 차별을 효과적으로 막기 위해서는 차별금지법이 있어야 합니다.\n",
      "\n",
      "첫째로, 많은 소수자들이 차별을 당하는 상황에서 법적 보호가 없다는 것은 심각한 문제입니다. 성적 지향, 성별 정체성, 장애, 나이, 인종 등 여러 이유로 차별받는 사람들이 존재하는 현실은 고통스럽습니다. 이들은 법적 근거가 없기 때문에 자신의 권리를 주장하는 것조차 어렵고, 그 결과로 사회적 불평등이 심화되고 있습니다. 차별금지법이 없이는 이러한 불평등이 계속 반복될 것입니다.\n",
      "\n",
      "둘째, 차별금지법은 우리 사회의 이해와 존중을 증진시키는 데 중요한 역할을 합니다. 법은 사회적 규범을 형성하는 중요한 도구입니다. 차별금지법이 제정된다면, 사람들은 서로의 다양성을 인식하게 되고, 그것을 존중하는 문화가 널리 퍼질 것입니다. 이는 더욱 포용적이고 화합된 사회로 나아가는 데 큰 기여를 할 것입니다.\n",
      "\n",
      "셋째로, 해외의 여러 성공 사례를 살펴보면 이미 차별금지법이 제정된 국가들이 긍정적인 변화를 가져온 것을 알 수 있습니다. 유럽의 많은 나라들은 차별금지법을 통해 사회적으로 약한 집단을 보호하고, 더욱 공정한 사회를 만들어가고 있습니다. 우리는 이런 흐름에 발맞추어 차별금지법을 도입함으로써, 더 나은 사회로 나아가야 합니다.\n",
      "\n",
      "마지막으로, 차별금지법은 단순한 법의 제정을 넘어, 우리 사회의 가치관을 높이는 과정입니다. 모든 시민이 동등하게 대우받는 것은 지극히 당연한 권리이며, 이는 모든 국민이 누려야 할 기본적인 것입니다. 사회의 발전은 결국 모든 구성원이 공정하게 대우받을 때 가능하죠.\n",
      "\n",
      "따라서 차별금지법안은 꼭 필요한 법입니다. 우리는 이 문제에 대해 더욱 깊이 고민하고, 함께 행동해야 할 때입니다. 차별 없는 세상을 위해 모두가 한 걸음씩 나아가길 희망합니다!\n",
      "---------- Topic_Moderator_Agent ----------\n",
      "차별금지법 제정에 대한 다양한 의견을 종합해보면, 대다수의 사람들은 이 법안이 꼭 필요하다고 주장하고 있습니다. 그 이유로는 첫째, 여러 소수자 집단이 경험하는 차별을 법적으로 보호하고, 그들의 권리를 주장할 수 있는 법적 근거를 제공해야 한다는 점입니다. 현재 우리 사회는 성적 지향, 성별 정체성, 인종 등 다양한 이유로 차별받는 사람들이 존재하고 있으며, 이들을 위한 법적인 보호가 절실하다는 의견이 많습니다.\n",
      "\n",
      "둘째, 차별금지법이 제정되면 사회에 서로에 대한 이해와 존중을 증진시킬 수 있다는 점도 강조되었습니다. 법은 사회의 규범을 형성하는 데 중요한 역할을 하며, 이 법안이 제정되는 것만으로도 보다 포용적이고 화합된 사회를 만들 수 있다는 기대가 있습니다.\n",
      "\n",
      "셋째, 이미 많은 국가들이 차별금지법을 통해 긍정적인 변화를 이루어낸 사례를 언급하며, 우리도 이러한 흐름에 동참해야 한다는 목소리가 높습니다. 해외의 성공 사례를 통해 차별금지법의 필요성을 더욱 확고히 할 수 있겠다는 의견이 많습니다.\n",
      "\n",
      "그러나 차별금지법 제정에 반대하는 의견도 존재합니다. 이들은 법안이 개인의 자유를 제한할 수 있으며, 특정 집단의 권리를 과도하게 보호하는 결과를 초래할 수 있다고 주장합니다. 또한, 법 이외의 방법으로도 다양한 형태의 차별에 대응할 수 있다고 믿는 이들도 있습니다.\n",
      "\n",
      "저는 차별금지법이 필요하다고 생각하지만, 잘못된 방향으로 갈 수 있는 위험성도 인식해야 한다고 봅니다. 차별을 없애기 위한 법적 장치가 필요하지만, 그것이 개인의 의견 표현이나 자유를 과도하게 제한하는 방향으로 해석되지 않아야 합니다. 사회적 합의와 신중한 접근이 필요하다고 생각합니다.\n",
      "\n",
      "TERMINATE\n"
     ]
    },
    {
     "data": {
      "text/plain": [
       "TaskResult(messages=[TextMessage(source='user', models_usage=None, content='차별금지법안은 필요한 법인가?', type='TextMessage'), ToolCallRequestEvent(source='Google_Search_Agent', models_usage=RequestUsage(prompt_tokens=134, completion_tokens=27), content=[FunctionCall(id='call_uXlf7GnDsB2PK5JIbfFjD9aH', arguments='{\"query\":\"차별금지법안 필요성\",\"num_results\":2}', name='google_search')], type='ToolCallRequestEvent'), ToolCallExecutionEvent(source='Google_Search_Agent', models_usage=None, content=[FunctionExecutionResult(content='[{\\'title\\': \\'차별금지법: 17년째 국회서 쳇바퀴...제정되지 않는 진짜 이유 - BBC ...\\', \\'link\\': \\'https://www.bbc.com/korean/news-66065811\\', \\'snippet\\': \\'Aug 2, 2023 ... 차별금지법 제정의 필요성을 역설하는 이들은 개별적 차별금지법으로는 ... 오래전부터 포괄적 차별금지법안이 발의돼 왔지만, 구체적인 논의나\\\\xa0...\\', \\'body\\': \"차별금지법: 17년째 국회서 쳇바퀴...제정되지 않는 진짜 이유 - BBC News 코리아 BBC News, 코리아 내용 보기 섹션 뉴스 비디오 라디오 다운로드 TOP 뉴스 뉴스 비디오 라디오 다운로드 TOP 뉴스 차별금지법: 17년째 국회서 쳇바퀴...제정되지 않는 진짜 이유 사진 출처, 차별금지법제정연대 홈페이지 사진 설명, 차별금지법제정연대가 1일 충남 내포혁신플랫폼에서 \\'성평등 책 금서 요구\\'를 비판하는 토론회를 열었다 기사 관련 정보 기자, 리차드 김 기자, BBC 코리아 2023년 8월 2일 충청남도 공공도서관에 비치된 성교육·성평등 관련 도서를 두고 갑론을박이 이어지면서 이른바 \\'차별금지법\\'을 둘러싼 갈등도 재점화되는 분위기다. 이번 사태는 최근 충남도의회에서 \\'성교육 도서\\'에 대한 공식적인 문제 제기 발언이 나오면서 확산했다. 지민규 도의원(국민의힘)은 지난달 25일 열린 본회의 긴급현안질문에서 성교육 도서의 과도한 성적 표현들이 청소년들에게 부정적인 영향을 줄 수\"}, {\\'title\\': \\'[발언] 소수자 및 복합차별 관점에서 본 차별금지법 제정 필요성 | 공익 ...\\', \\'link\\': \\'https://hopeandlaw.org/17519-2/\\', \\'snippet\\': \\'Jun 25, 2021 ... 차별금지법은 이렇게 소수자의 위치에 놓여진 사람들이 먼저 경험하는 차별에 대한 증언들을 경청하고, 그러한 차별을 만들어내는 사회구조를 발견하여 그\\\\xa0...\\', \\'body\\': \\'[발언] 소수자 및 복합차별 관점에서 본 차별금지법 제정 필요성 | 공익인권변호사모임 희망을만드는법 후원하기 | 후원회원 정보변경 | 기부금 영수증 Open Menu 홈 소개 공익인권변호사모임 희망을만드는법은? 연혁 함께하는 사람들 오시는 길 소식 공지사항 살림 행사안내 소식지 활동 공익인권법 일반 기업과 인권 성적지향과 성별정체성 장애 집회 시위의 자유 희망법 이모저모 사진으로 보는 희망법 활동참여 후기 자료 자료집/보고서 언론에 비친 희망법 성명/보도자료 연간보고서 후원하기 후원자 페이지 후원회원 정보변경 기부금영수증 02-364-1210 02-364-1209 hope@hopeandlaw.org 홈 소개 공익인권변호사모임 희망을만드는법은? 연혁 함께하는 사람들 오시는 길 소식 공지사항 살림 행사안내 소식지 활동 공익인권법 일반 기업과 인권 성적지향과 성별정체성 장애 집회 시위의 자유 희망법 이모저모 사진으로 보는 희망법 활동참여 후기 자료 자료집/보고서 언론에 비친 희망법\\'}]', call_id='call_uXlf7GnDsB2PK5JIbfFjD9aH')], type='ToolCallExecutionEvent'), ToolCallSummaryMessage(source='Google_Search_Agent', models_usage=None, content='[{\\'title\\': \\'차별금지법: 17년째 국회서 쳇바퀴...제정되지 않는 진짜 이유 - BBC ...\\', \\'link\\': \\'https://www.bbc.com/korean/news-66065811\\', \\'snippet\\': \\'Aug 2, 2023 ... 차별금지법 제정의 필요성을 역설하는 이들은 개별적 차별금지법으로는 ... 오래전부터 포괄적 차별금지법안이 발의돼 왔지만, 구체적인 논의나\\\\xa0...\\', \\'body\\': \"차별금지법: 17년째 국회서 쳇바퀴...제정되지 않는 진짜 이유 - BBC News 코리아 BBC News, 코리아 내용 보기 섹션 뉴스 비디오 라디오 다운로드 TOP 뉴스 뉴스 비디오 라디오 다운로드 TOP 뉴스 차별금지법: 17년째 국회서 쳇바퀴...제정되지 않는 진짜 이유 사진 출처, 차별금지법제정연대 홈페이지 사진 설명, 차별금지법제정연대가 1일 충남 내포혁신플랫폼에서 \\'성평등 책 금서 요구\\'를 비판하는 토론회를 열었다 기사 관련 정보 기자, 리차드 김 기자, BBC 코리아 2023년 8월 2일 충청남도 공공도서관에 비치된 성교육·성평등 관련 도서를 두고 갑론을박이 이어지면서 이른바 \\'차별금지법\\'을 둘러싼 갈등도 재점화되는 분위기다. 이번 사태는 최근 충남도의회에서 \\'성교육 도서\\'에 대한 공식적인 문제 제기 발언이 나오면서 확산했다. 지민규 도의원(국민의힘)은 지난달 25일 열린 본회의 긴급현안질문에서 성교육 도서의 과도한 성적 표현들이 청소년들에게 부정적인 영향을 줄 수\"}, {\\'title\\': \\'[발언] 소수자 및 복합차별 관점에서 본 차별금지법 제정 필요성 | 공익 ...\\', \\'link\\': \\'https://hopeandlaw.org/17519-2/\\', \\'snippet\\': \\'Jun 25, 2021 ... 차별금지법은 이렇게 소수자의 위치에 놓여진 사람들이 먼저 경험하는 차별에 대한 증언들을 경청하고, 그러한 차별을 만들어내는 사회구조를 발견하여 그\\\\xa0...\\', \\'body\\': \\'[발언] 소수자 및 복합차별 관점에서 본 차별금지법 제정 필요성 | 공익인권변호사모임 희망을만드는법 후원하기 | 후원회원 정보변경 | 기부금 영수증 Open Menu 홈 소개 공익인권변호사모임 희망을만드는법은? 연혁 함께하는 사람들 오시는 길 소식 공지사항 살림 행사안내 소식지 활동 공익인권법 일반 기업과 인권 성적지향과 성별정체성 장애 집회 시위의 자유 희망법 이모저모 사진으로 보는 희망법 활동참여 후기 자료 자료집/보고서 언론에 비친 희망법 성명/보도자료 연간보고서 후원하기 후원자 페이지 후원회원 정보변경 기부금영수증 02-364-1210 02-364-1209 hope@hopeandlaw.org 홈 소개 공익인권변호사모임 희망을만드는법은? 연혁 함께하는 사람들 오시는 길 소식 공지사항 살림 행사안내 소식지 활동 공익인권법 일반 기업과 인권 성적지향과 성별정체성 장애 집회 시위의 자유 희망법 이모저모 사진으로 보는 희망법 활동참여 후기 자료 자료집/보고서 언론에 비친 희망법\\'}]', type='ToolCallSummaryMessage'), TextMessage(source='Man_50_Accountant_Agent', models_usage=RequestUsage(prompt_tokens=954, completion_tokens=533), content='차별금지법안은 반드시 제정되어야 하는 법입니다. 현대 사회에서 모든 개인은 존엄하게 대우받아야 하며, 어떠한 이유로도 차별받아서는 안 됩니다. 우리가 함께 살고 있는 사회는 다양한 배경과 정체성을 가진 사람들로 구성되어 있으며, 각 개인이 평등하게 대우받는 것이 민주사회의 기본 이념이기 때문입니다.\\n\\n첫째, 차별금지법이 제정되지 않으면, 법적 근거 없어 소수 집단의 인권이 더욱 취약해질 것입니다. 현재 우리 사회에서는 성적 지향, 성별 정체성, 장애, 나이, 인종, 종교 등 여러 이유로 차별받는 사람들이 존재합니다. 이러한 차별을 막기 위한 법적 장치가 없다면 피해자들은 자신의 권리를 주장하기 어렵고, 이는 사회적 불평등을 더욱 심화시키는 결과를 초래할 것입니다.\\n\\n둘째, 차별금지법은 사회 구성원 간의 이해와 존중을 증진시킬 수 있습니다. 법은 단순히 규제를 넘어 사회적 Norm을 형성하는 데에 중요한 역할을 합니다. 차별금지법이 제정된다면, 사람들은 상대방의 다양성을 인정하고, 차별을 직접적으로 경험하지 않더라도 그 존재를 인식하게 될 것입니다. 이는 사회 전반에 걸쳐 포용적 문화가 자리 잡는 중요한 기초가 됩니다.\\n\\n셋째, 해외 여러 나라에서는 이미 이러한 법들이 실행되고 있으며 긍정적인 사례들을 보이고 있습니다. 예를 들어, 유럽의 여러 국가들은 차별금지법을 통해 사회적 약자들의 권리를 보호하고, 더욱 공정한 사회를 만들어 나가고 있습니다. 우리도 이와 같은 흐름에 동참해야 할 것입니다.\\n\\n마지막으로, 차별금지법의 제정은 단순한 법률의 제정이 아닌, 사회 공동체의 가치관을 업그레이드하는 과정입니다. 모든 시민이 동등하게 대우받는 것은 모든 국민이 누려야 할 기본적인 권리입니다. 우리 사회의 발전은 사회 구성원 모두가 공정한 대우를 받을 때 비로소 가능해집니다.\\n\\n따라서 차별금지법안은 반드시 필요하며, 이를 통해 우리는 더욱 평화롭고 정의로운 사회를 만들어 나가야 합니다. 우리는 이 문제에 대해 깊이 고민하고, 함께 행동해야 할 때입니다.', type='TextMessage'), TextMessage(source='Woman_20_College_Student_Agent', models_usage=RequestUsage(prompt_tokens=1501, completion_tokens=561), content='차별금지법안은 반드시 제정되어야 하는 법입니다! 우리 사회는 다양한 배경과 정체성을 가진 사람들로 가득 차 있습니다. 이런 다양한 형태의 존재가 서로 존중받고, 동등하게 대우받는 것이 민주사회의 근본적인 가치죠. 하지만 현재 우리는 여전히 많은 차별의 문제에 직면해 있습니다. 이러한 차별을 효과적으로 막기 위해서는 차별금지법이 있어야 합니다.\\n\\n첫째로, 많은 소수자들이 차별을 당하는 상황에서 법적 보호가 없다는 것은 심각한 문제입니다. 성적 지향, 성별 정체성, 장애, 나이, 인종 등 여러 이유로 차별받는 사람들이 존재하는 현실은 고통스럽습니다. 이들은 법적 근거가 없기 때문에 자신의 권리를 주장하는 것조차 어렵고, 그 결과로 사회적 불평등이 심화되고 있습니다. 차별금지법이 없이는 이러한 불평등이 계속 반복될 것입니다.\\n\\n둘째, 차별금지법은 우리 사회의 이해와 존중을 증진시키는 데 중요한 역할을 합니다. 법은 사회적 규범을 형성하는 중요한 도구입니다. 차별금지법이 제정된다면, 사람들은 서로의 다양성을 인식하게 되고, 그것을 존중하는 문화가 널리 퍼질 것입니다. 이는 더욱 포용적이고 화합된 사회로 나아가는 데 큰 기여를 할 것입니다.\\n\\n셋째로, 해외의 여러 성공 사례를 살펴보면 이미 차별금지법이 제정된 국가들이 긍정적인 변화를 가져온 것을 알 수 있습니다. 유럽의 많은 나라들은 차별금지법을 통해 사회적으로 약한 집단을 보호하고, 더욱 공정한 사회를 만들어가고 있습니다. 우리는 이런 흐름에 발맞추어 차별금지법을 도입함으로써, 더 나은 사회로 나아가야 합니다.\\n\\n마지막으로, 차별금지법은 단순한 법의 제정을 넘어, 우리 사회의 가치관을 높이는 과정입니다. 모든 시민이 동등하게 대우받는 것은 지극히 당연한 권리이며, 이는 모든 국민이 누려야 할 기본적인 것입니다. 사회의 발전은 결국 모든 구성원이 공정하게 대우받을 때 가능하죠.\\n\\n따라서 차별금지법안은 꼭 필요한 법입니다. 우리는 이 문제에 대해 더욱 깊이 고민하고, 함께 행동해야 할 때입니다. 차별 없는 세상을 위해 모두가 한 걸음씩 나아가길 희망합니다!', type='TextMessage'), TextMessage(source='Topic_Moderator_Agent', models_usage=RequestUsage(prompt_tokens=2042, completion_tokens=449), content='차별금지법 제정에 대한 다양한 의견을 종합해보면, 대다수의 사람들은 이 법안이 꼭 필요하다고 주장하고 있습니다. 그 이유로는 첫째, 여러 소수자 집단이 경험하는 차별을 법적으로 보호하고, 그들의 권리를 주장할 수 있는 법적 근거를 제공해야 한다는 점입니다. 현재 우리 사회는 성적 지향, 성별 정체성, 인종 등 다양한 이유로 차별받는 사람들이 존재하고 있으며, 이들을 위한 법적인 보호가 절실하다는 의견이 많습니다.\\n\\n둘째, 차별금지법이 제정되면 사회에 서로에 대한 이해와 존중을 증진시킬 수 있다는 점도 강조되었습니다. 법은 사회의 규범을 형성하는 데 중요한 역할을 하며, 이 법안이 제정되는 것만으로도 보다 포용적이고 화합된 사회를 만들 수 있다는 기대가 있습니다.\\n\\n셋째, 이미 많은 국가들이 차별금지법을 통해 긍정적인 변화를 이루어낸 사례를 언급하며, 우리도 이러한 흐름에 동참해야 한다는 목소리가 높습니다. 해외의 성공 사례를 통해 차별금지법의 필요성을 더욱 확고히 할 수 있겠다는 의견이 많습니다.\\n\\n그러나 차별금지법 제정에 반대하는 의견도 존재합니다. 이들은 법안이 개인의 자유를 제한할 수 있으며, 특정 집단의 권리를 과도하게 보호하는 결과를 초래할 수 있다고 주장합니다. 또한, 법 이외의 방법으로도 다양한 형태의 차별에 대응할 수 있다고 믿는 이들도 있습니다.\\n\\n저는 차별금지법이 필요하다고 생각하지만, 잘못된 방향으로 갈 수 있는 위험성도 인식해야 한다고 봅니다. 차별을 없애기 위한 법적 장치가 필요하지만, 그것이 개인의 의견 표현이나 자유를 과도하게 제한하는 방향으로 해석되지 않아야 합니다. 사회적 합의와 신중한 접근이 필요하다고 생각합니다.\\n\\nTERMINATE', type='TextMessage')], stop_reason=\"Text 'TERMINATE' mentioned\")"
      ]
     },
     "execution_count": 6,
     "metadata": {},
     "output_type": "execute_result"
    }
   ],
   "source": [
    "await team.reset()  # Reset the team for a new task.\n",
    "await Console(team.run_stream(task=\"차별금지법안은 필요한 법인가?\"))  # Stream the messages to the console."
   ]
  },
  {
   "cell_type": "code",
   "execution_count": null,
   "metadata": {},
   "outputs": [],
   "source": []
  }
 ],
 "metadata": {
  "kernelspec": {
   "display_name": "autogenstudio",
   "language": "python",
   "name": "python3"
  },
  "language_info": {
   "codemirror_mode": {
    "name": "ipython",
    "version": 3
   },
   "file_extension": ".py",
   "mimetype": "text/x-python",
   "name": "python",
   "nbconvert_exporter": "python",
   "pygments_lexer": "ipython3",
   "version": "3.11.11"
  }
 },
 "nbformat": 4,
 "nbformat_minor": 2
}
